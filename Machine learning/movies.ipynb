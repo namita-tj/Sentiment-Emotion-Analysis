{
 "cells": [
  {
   "cell_type": "code",
   "execution_count": 4,
   "metadata": {},
   "outputs": [
    {
     "name": "stdout",
     "output_type": "stream",
     "text": [
      "<bound method NDFrame.head of        user_id  item_id  rating  timestamp\n",
      "0          196      242       3  881250949\n",
      "1          186      302       3  891717742\n",
      "2           22      377       1  878887116\n",
      "3          244       51       2  880606923\n",
      "4          166      346       1  886397596\n",
      "...        ...      ...     ...        ...\n",
      "99995      880      476       3  880175444\n",
      "99996      716      204       5  879795543\n",
      "99997      276     1090       1  874795795\n",
      "99998       13      225       2  882399156\n",
      "99999       12      203       3  879959583\n",
      "\n",
      "[100000 rows x 4 columns]>\n"
     ]
    }
   ],
   "source": [
    "import pandas as pd\n",
    "ratings=pd.read_csv('u.data',sep='\\t',names=['user_id','item_id','rating','timestamp'])\n",
    "print(ratings.head)"
   ]
  },
  {
   "cell_type": "code",
   "execution_count": 11,
   "metadata": {},
   "outputs": [
    {
     "name": "stdout",
     "output_type": "stream",
     "text": [
      "<bound method NDFrame.head of       movie id                                movie title release date  \\\n",
      "0            1                           Toy Story (1995)  01-Jan-1995   \n",
      "1            2                           GoldenEye (1995)  01-Jan-1995   \n",
      "2            3                          Four Rooms (1995)  01-Jan-1995   \n",
      "3            4                          Get Shorty (1995)  01-Jan-1995   \n",
      "4            5                             Copycat (1995)  01-Jan-1995   \n",
      "...        ...                                        ...          ...   \n",
      "1677      1678                          Mat' i syn (1997)  06-Feb-1998   \n",
      "1678      1679                           B. Monkey (1998)  06-Feb-1998   \n",
      "1679      1680                       Sliding Doors (1998)  01-Jan-1998   \n",
      "1680      1681                        You So Crazy (1994)  01-Jan-1994   \n",
      "1681      1682  Scream of Stone (Schrei aus Stein) (1991)  08-Mar-1996   \n",
      "\n",
      "      video release date                                           IMDb URL  \\\n",
      "0                    NaN  http://us.imdb.com/M/title-exact?Toy%20Story%2...   \n",
      "1                    NaN  http://us.imdb.com/M/title-exact?GoldenEye%20(...   \n",
      "2                    NaN  http://us.imdb.com/M/title-exact?Four%20Rooms%...   \n",
      "3                    NaN  http://us.imdb.com/M/title-exact?Get%20Shorty%...   \n",
      "4                    NaN  http://us.imdb.com/M/title-exact?Copycat%20(1995)   \n",
      "...                  ...                                                ...   \n",
      "1677                 NaN  http://us.imdb.com/M/title-exact?Mat%27+i+syn+...   \n",
      "1678                 NaN  http://us.imdb.com/M/title-exact?B%2E+Monkey+(...   \n",
      "1679                 NaN      http://us.imdb.com/Title?Sliding+Doors+(1998)   \n",
      "1680                 NaN  http://us.imdb.com/M/title-exact?You%20So%20Cr...   \n",
      "1681                 NaN  http://us.imdb.com/M/title-exact?Schrei%20aus%...   \n",
      "\n",
      "      unknown  Action  Adventure  Animation  Children  ...  Fantasy  \\\n",
      "0           0       0          0          1         1  ...        0   \n",
      "1           0       1          1          0         0  ...        0   \n",
      "2           0       0          0          0         0  ...        0   \n",
      "3           0       1          0          0         0  ...        0   \n",
      "4           0       0          0          0         0  ...        0   \n",
      "...       ...     ...        ...        ...       ...  ...      ...   \n",
      "1677        0       0          0          0         0  ...        0   \n",
      "1678        0       0          0          0         0  ...        0   \n",
      "1679        0       0          0          0         0  ...        0   \n",
      "1680        0       0          0          0         0  ...        0   \n",
      "1681        0       0          0          0         0  ...        0   \n",
      "\n",
      "      Film-Noir  Horror  Musical  Mystery  Romance  Sci-Fi  Thriller  War  \\\n",
      "0             0       0        0        0        0       0         0    0   \n",
      "1             0       0        0        0        0       0         1    0   \n",
      "2             0       0        0        0        0       0         1    0   \n",
      "3             0       0        0        0        0       0         0    0   \n",
      "4             0       0        0        0        0       0         1    0   \n",
      "...         ...     ...      ...      ...      ...     ...       ...  ...   \n",
      "1677          0       0        0        0        0       0         0    0   \n",
      "1678          0       0        0        0        1       0         1    0   \n",
      "1679          0       0        0        0        1       0         0    0   \n",
      "1680          0       0        0        0        0       0         0    0   \n",
      "1681          0       0        0        0        0       0         0    0   \n",
      "\n",
      "      Western  \n",
      "0           0  \n",
      "1           0  \n",
      "2           0  \n",
      "3           0  \n",
      "4           0  \n",
      "...       ...  \n",
      "1677        0  \n",
      "1678        0  \n",
      "1679        0  \n",
      "1680        0  \n",
      "1681        0  \n",
      "\n",
      "[1682 rows x 24 columns]>\n"
     ]
    }
   ],
   "source": [
    "movies=pd.read_csv('u.item',sep='|',names=['movie id','movie title','release date','video release date',\n",
    "              'IMDb URL','unknown','Action','Adventure','Animation',\n",
    "              'Children','Comedy','Crime','Documentary','Drama','Fantasy',\n",
    "              'Film-Noir','Horror','Musical','Mystery','Romance','Sci-Fi',\n",
    "              'Thriller','War','Western'],encoding='latin-1')\n",
    "print(movies.head)"
   ]
  },
  {
   "cell_type": "markdown",
   "metadata": {},
   "source": []
  }
 ],
 "metadata": {
  "kernelspec": {
   "display_name": "Python 3",
   "language": "python",
   "name": "python3"
  },
  "language_info": {
   "codemirror_mode": {
    "name": "ipython",
    "version": 3
   },
   "file_extension": ".py",
   "mimetype": "text/x-python",
   "name": "python",
   "nbconvert_exporter": "python",
   "pygments_lexer": "ipython3",
   "version": "3.10.7"
  }
 },
 "nbformat": 4,
 "nbformat_minor": 2
}
